{
 "cells": [
  {
   "cell_type": "code",
   "execution_count": 2,
   "id": "406b1378-f010-49f5-93c9-1ac064bd293d",
   "metadata": {},
   "outputs": [
    {
     "name": "stdin",
     "output_type": "stream",
     "text": [
      "enter the length of side 2\n"
     ]
    },
    {
     "name": "stdout",
     "output_type": "stream",
     "text": [
      "Area of a square is : 4\n"
     ]
    }
   ],
   "source": [
    "a=int(input(\"enter the length of side\"))\n",
    "area=a+a\n",
    "print(\"Area of a square is :\",area)\n"
   ]
  },
  {
   "cell_type": "code",
   "execution_count": 3,
   "id": "39bde936-f1ca-4d4e-aae6-93eb8e0252fd",
   "metadata": {},
   "outputs": [
    {
     "name": "stdin",
     "output_type": "stream",
     "text": [
      "Enter the base of right angle triangle : 5\n",
      "Enter the height of right angle triangle : 10\n"
     ]
    },
    {
     "name": "stdout",
     "output_type": "stream",
     "text": [
      "the area of the right angle triangle is : 25.0\n"
     ]
    }
   ],
   "source": [
    "b=int (input(\"Enter the base of right angle triangle :\"))\n",
    "h=int(input(\"Enter the height of right angle triangle :\"))\n",
    "area=(b*h)/2\n",
    "print(\"the area of the right angle triangle is :\",area)"
   ]
  },
  {
   "cell_type": "code",
   "execution_count": 5,
   "id": "d25eabe0-be38-451d-9d50-95c26d248186",
   "metadata": {},
   "outputs": [
    {
     "name": "stdin",
     "output_type": "stream",
     "text": [
      "Enter the name of user : Nihal\n"
     ]
    },
    {
     "name": "stdout",
     "output_type": "stream",
     "text": [
      "Hello,Nihal!\n"
     ]
    }
   ],
   "source": [
    "name=input(\"Enter the name of user :\")\n",
    "print (\"Hello,\"+name+\"!\")\n",
    "       "
   ]
  },
  {
   "cell_type": "code",
   "execution_count": 7,
   "id": "cba7713e-2b13-4200-b30c-8a402511edb1",
   "metadata": {},
   "outputs": [
    {
     "name": "stdin",
     "output_type": "stream",
     "text": [
      "enter a number : 42\n"
     ]
    },
    {
     "name": "stdout",
     "output_type": "stream",
     "text": [
      "The previous number is : 41\n",
      "the next number is : 43\n"
     ]
    }
   ],
   "source": [
    "num=int(input(\"enter a number :\"))\n",
    "pn=num-1\n",
    "nn=num+1\n",
    "print(\"The previous number is :\",pn)\n",
    "print(\"the next number is :\",nn)"
   ]
  },
  {
   "cell_type": "code",
   "execution_count": 8,
   "id": "2b7a0af1-fa52-4d14-a9cf-a713d89fd26c",
   "metadata": {},
   "outputs": [
    {
     "name": "stdin",
     "output_type": "stream",
     "text": [
      "Enter the principle amount : 5000\n",
      "Enter the rate of interest per year: 100\n",
      "enter the duration: 2\n"
     ]
    },
    {
     "name": "stdout",
     "output_type": "stream",
     "text": [
      "The simple interest is : 10000.0\n"
     ]
    }
   ],
   "source": [
    "P=int(input(\"Enter the principle amount :\"))\n",
    "R=int(input(\"Enter the rate of interest per year:\"))\n",
    "T=int(input (\"enter the duration:\"))\n",
    "S=(P*R*T)/100\n",
    "print(\"The simple interest is :\",S)"
   ]
  },
  {
   "cell_type": "code",
   "execution_count": null,
   "id": "1010597a-eb9c-4177-8767-9b11dd278c9d",
   "metadata": {},
   "outputs": [],
   "source": []
  }
 ],
 "metadata": {
  "kernelspec": {
   "display_name": "Python 3 (ipykernel)",
   "language": "python",
   "name": "python3"
  },
  "language_info": {
   "codemirror_mode": {
    "name": "ipython",
    "version": 3
   },
   "file_extension": ".py",
   "mimetype": "text/x-python",
   "name": "python",
   "nbconvert_exporter": "python",
   "pygments_lexer": "ipython3",
   "version": "3.11.9"
  }
 },
 "nbformat": 4,
 "nbformat_minor": 5
}
