
{
 "cells": [
  {
   "cell_type": "code",
   "execution_count": 2,
   "id": "a1d9d5f3-3428-4f11-bdd6-ebb0e08ee74a",
   "metadata": {},
   "outputs": [
    {
     "name": "stdout",
     "output_type": "stream",
     "text": [
      "Enter a number5\n",
      "5+55+555=615\n"
     ]
    }
   ],
   "source": [
    "#COMPUTE n+nn+nnn\n",
    "n=(input(\"Enter a number\"))\n",
    "r=int(n)+int(n*2)+int(n*3)\n",
    "print(f\"{n}+{n*2}+{n*3}={r}\")"
   ]
  },
  {
   "cell_type": "code",
   "execution_count": 1,
   "id": "66488472-dc0c-4e90-a3dd-a4bf34b6c8ba",
   "metadata": {},
   "outputs": [
    {
     "name": "stdout",
     "output_type": "stream",
     "text": [
      "Enter the radius :5\n",
      "Area of the circle with radius 5.0 = 78.54\n"
     ]
    }
   ],
   "source": [
    "#AREA OF A CIRCLE\n",
    "import math\n",
    "r=float(input(\"Enter the radius :\"))\n",
    "area=math.pi*(r*r)\n",
    "print(\"Area of the circle with radius {} = {:.2f}\".format(r,area))"
   ]
  },
  {
   "cell_type": "code",
   "execution_count": 1,
   "id": "bcde4eae-3b42-4ce0-9a16-4c0226908bec",
   "metadata": {},
   "outputs": [
    {
     "name": "stdout",
     "output_type": "stream",
     "text": [
      "Enter a number :5\n",
      "Enter a number :7\n",
      "Enter a number :4\n",
      "The max amoung three numbers = 7\n"
     ]
    }
   ],
   "source": [
    "#MAXIUM AMOUNG THREE\n",
    "a=int(input(\"Enter a number :\"))\n",
    "b=int(input(\"Enter a number :\"))\n",
    "c=int(input(\"Enter a number :\"))\n",
    "maxium=max(a,b,c)\n",
    "print(\"The max amoung three numbers =\",maxium)"
   ]
  },
  {
   "cell_type": "code",
   "execution_count": null,
   "id": "cb7f55b7-fb3c-4f8c-b335-31eb9009a6d5",
   "metadata": {},
   "outputs": [],
   "source": []
  }
 ],
 "metadata": {
  "kernelspec": {
   "display_name": "Python 3",
   "language": "python",
   "name": "python3"
  },
  "language_info": {
   "codemirror_mode": {
    "name": "ipython",
    "version": 3
   },
   "file_extension": ".py",
   "mimetype": "text/x-python",
   "name": "python",
   "nbconvert_exporter": "python",
   "pygments_lexer": "ipython3",
   "version": "3.6.7"
  }
 },
 "nbformat": 4,
 "nbformat_minor": 5
}
