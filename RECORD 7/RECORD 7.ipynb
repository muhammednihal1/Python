{
 "cells": [
  {
   "cell_type": "code",
   "execution_count": 1,
   "id": "2868ea91-f8d0-4d60-a7cd-cc024de662f3",
   "metadata": {},
   "outputs": [
    {
     "name": "stdout",
     "output_type": "stream",
     "text": [
      "1. Rectangle\n",
      "2. Circle\n",
      "3. Exit\n"
     ]
    },
    {
     "name": "stdin",
     "output_type": "stream",
     "text": [
      "Enter your choice:  1\n",
      "Enter length:  5\n",
      "Enter breadth:  10\n"
     ]
    },
    {
     "name": "stdout",
     "output_type": "stream",
     "text": [
      "Area of Rectangle:  50\n",
      "Perimeter of Rectangle:  30\n",
      "1. Rectangle\n",
      "2. Circle\n",
      "3. Exit\n"
     ]
    },
    {
     "name": "stdin",
     "output_type": "stream",
     "text": [
      "Enter your choice:  2\n",
      "Enter radius:  5\n"
     ]
    },
    {
     "name": "stdout",
     "output_type": "stream",
     "text": [
      "Area of Circle:  78.5\n",
      "Perimeter of Circle: 31.40\n",
      "1. Rectangle\n",
      "2. Circle\n",
      "3. Exit\n"
     ]
    },
    {
     "name": "stdin",
     "output_type": "stream",
     "text": [
      "Enter your choice:  3\n"
     ]
    },
    {
     "name": "stdout",
     "output_type": "stream",
     "text": [
      "Exiting.\n"
     ]
    }
   ],
   "source": [
    "# 1.module\n",
    "import rectangle\n",
    "import circle\n",
    "while(1):\n",
    "    print(\"1. Rectangle\\n2. Circle\\n3. Exit\")\n",
    "    ch = int(input(\"Enter your choice: \"))\n",
    "    if ch == 1:  \n",
    "        l = int(input(\"Enter length: \"))\n",
    "        b = int(input(\"Enter breadth: \"))\n",
    "        rectangle.rectarea(l, b)\n",
    "        rectangle.rectperi(l, b)\n",
    "    elif ch == 2:\n",
    "        r = int(input(\"Enter radius: \"))\n",
    "        circle.circarea(r)\n",
    "        circle.circperi(r)\n",
    "    elif ch == 3:\n",
    "        print(\"Exiting.\")\n",
    "        break\n",
    "    else:\n",
    "        print(\"invalid choice\")"
   ]
  },
  {
   "cell_type": "code",
   "execution_count": 2,
   "id": "d020b36a-c62f-47e9-bee0-bc00158f367f",
   "metadata": {},
   "outputs": [
    {
     "name": "stdout",
     "output_type": "stream",
     "text": [
      "\n",
      "1. Rectangle\n",
      "2. Circle\n",
      "3. Cuboid\n",
      "4. Sphere\n",
      "5. Exit\n"
     ]
    },
    {
     "name": "stdin",
     "output_type": "stream",
     "text": [
      "\n",
      "Enter your choice:  1\n",
      "Enter length:  5\n",
      "Enter breadth:  5\n"
     ]
    },
    {
     "name": "stdout",
     "output_type": "stream",
     "text": [
      "Area of Rectangle:  25\n",
      "Perimeter of Rectangle:  20\n",
      "\n",
      "1. Rectangle\n",
      "2. Circle\n",
      "3. Cuboid\n",
      "4. Sphere\n",
      "5. Exit\n"
     ]
    },
    {
     "name": "stdin",
     "output_type": "stream",
     "text": [
      "\n",
      "Enter your choice:  2\n",
      "Enter radius:  5\n"
     ]
    },
    {
     "name": "stdout",
     "output_type": "stream",
     "text": [
      "Area of Circle:  78.5\n",
      "Perimeter of Circle: 31.40\n",
      "\n",
      "1. Rectangle\n",
      "2. Circle\n",
      "3. Cuboid\n",
      "4. Sphere\n",
      "5. Exit\n"
     ]
    },
    {
     "name": "stdin",
     "output_type": "stream",
     "text": [
      "\n",
      "Enter your choice:  3\n",
      "Enter length:  10\n",
      "Enter breadth:  5\n",
      "Enter height:  15\n"
     ]
    },
    {
     "name": "stdout",
     "output_type": "stream",
     "text": [
      "Area of cuboid:  550\n",
      "Perimeter of cuboid:  120\n",
      "\n",
      "1. Rectangle\n",
      "2. Circle\n",
      "3. Cuboid\n",
      "4. Sphere\n",
      "5. Exit\n"
     ]
    },
    {
     "name": "stdin",
     "output_type": "stream",
     "text": [
      "\n",
      "Enter your choice:  4\n",
      "Enter radius:  5\n"
     ]
    },
    {
     "name": "stdout",
     "output_type": "stream",
     "text": [
      "Surface area of sphere:  314.0\n",
      "Circumference of sphere: 31.40\n",
      "\n",
      "1. Rectangle\n",
      "2. Circle\n",
      "3. Cuboid\n",
      "4. Sphere\n",
      "5. Exit\n"
     ]
    },
    {
     "name": "stdin",
     "output_type": "stream",
     "text": [
      "\n",
      "Enter your choice:  5\n"
     ]
    },
    {
     "name": "stdout",
     "output_type": "stream",
     "text": [
      "Exiting\n"
     ]
    }
   ],
   "source": [
    "#2.package\n",
    "from graphics import rectangle\n",
    "from graphics import circle\n",
    "from graphics.graphics3d import cuboid\n",
    "from graphics.graphics3d import sphere\n",
    "while(1):\n",
    "    print(\"\\n1. Rectangle\\n2. Circle\\n3. Cuboid\\n4. Sphere\\n5. Exit\")\n",
    "    ch = int(input(\"\\nEnter your choice: \"))    \n",
    "    if ch == 1:\n",
    "        l = int(input(\"Enter length: \"))\n",
    "        b = int(input(\"Enter breadth: \"))\n",
    "        rectangle.rectarea(l, b)\n",
    "        rectangle.rectperi(l, b)    \n",
    "    elif ch == 2:\n",
    "        r = int(input(\"Enter radius: \"))\n",
    "        circle.circlearea(r)\n",
    "        circle.circleperi(r)\n",
    "    elif ch == 3:\n",
    "        l = int(input(\"Enter length: \"))\n",
    "        b = int(input(\"Enter breadth: \"))\n",
    "        h = int(input(\"Enter height: \"))\n",
    "        cuboid.cuboidarea(l, b, h)\n",
    "        cuboid.cuboidperi(l, b, h)\n",
    "    elif ch == 4:\n",
    "        r = int(input(\"Enter radius: \"))\n",
    "        sphere.spherearea(r)\n",
    "        sphere.sphereperi(r)\n",
    "    else:\n",
    "        print(\"Exiting\")\n",
    "        break"
   ]
  },
  {
   "cell_type": "code",
   "execution_count": null,
   "id": "d363b157-0337-4453-a727-dfd3fd25b606",
   "metadata": {},
   "outputs": [],
   "source": []
  }
 ],
 "metadata": {
  "kernelspec": {
   "display_name": "Python 3 (ipykernel)",
   "language": "python",
   "name": "python3"
  },
  "language_info": {
   "codemirror_mode": {
    "name": "ipython",
    "version": 3
   },
   "file_extension": ".py",
   "mimetype": "text/x-python",
   "name": "python",
   "nbconvert_exporter": "python",
   "pygments_lexer": "ipython3",
   "version": "3.10.12"
  }
 },
 "nbformat": 4,
 "nbformat_minor": 5
}
