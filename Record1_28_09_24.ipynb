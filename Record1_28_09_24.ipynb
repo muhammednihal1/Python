
{
 "cells": [
  {
   "cell_type": "code",
   "execution_count": 4,
   "id": "5144397f-2151-4d12-b11d-3a94a9d0f1b5",
   "metadata": {},
   "outputs": [
    {
     "name": "stdin",
     "output_type": "stream",
     "text": [
      "Enter a number : 5\n"
     ]
    },
    {
     "name": "stdout",
     "output_type": "stream",
     "text": [
      "the computed value is : 615\n"
     ]
    }
   ],
   "source": [
    "# Write a Python program to accept an integer(n) and compute n+nn+nnn \n",
    "n=(input(\"Enter a number :\"))\n",
    "c=int(n)+int(n*2)+int(n*3)\n",
    "print(\"the computed value is :\",c)"
   ]
  },
  {
   "cell_type": "code",
   "execution_count": 10,
   "id": "edfb7192-4efa-4a56-8652-8b51618a9269",
   "metadata": {},
   "outputs": [
    {
     "name": "stdin",
     "output_type": "stream",
     "text": [
      "Enter radius:  5\n"
     ]
    },
    {
     "name": "stdout",
     "output_type": "stream",
     "text": [
      "The area of circle is:  78.53981633974483\n"
     ]
    }
   ],
   "source": [
    "#Write a python program to find area of a circle (import math)\n",
    "import math\n",
    "r=float (input (\"Enter radius: \"))\n",
    "area =math.pi*r*r\n",
    "print(\"The area of circle is: \",area)\n",
    " "
   ]
  },
  {
   "cell_type": "code",
   "execution_count": 24,
   "id": "94d5f064-a2c2-49b9-b7c6-a5e959aed67f",
   "metadata": {},
   "outputs": [
    {
     "name": "stdin",
     "output_type": "stream",
     "text": [
      " Enter 1st number 7\n",
      "Enter 2nd number 9\n",
      "Enter 3rd number 2\n"
     ]
    },
    {
     "name": "stdout",
     "output_type": "stream",
     "text": [
      "the max is:  9\n"
     ]
    }
   ],
   "source": [
    "#Write a program to find the biggest of three numbers(Use max())\n",
    "a=int(input(\" Enter 1st number\"))\n",
    "b=int(input (\"Enter 2nd number\"))\n",
    "c=int(input (\"Enter 3rd number\"))\n",
    "result=max(a,b,c)\n",
    "print(\"the max is: \",result)"
   ]
  },
  {
   "cell_type": "code",
   "execution_count": null,
   "id": "cfeff6c0-9034-43df-80a6-c5f994f48712",
   "metadata": {},
   "outputs": [],
   "source": []
  }
 ],
 "metadata": {
  "kernelspec": {
   "display_name": "Python 3 (ipykernel)",
   "language": "python",
   "name": "python3"
  },
  "language_info": {
   "codemirror_mode": {
    "name": "ipython",
    "version": 3
   },
   "file_extension": ".py",
   "mimetype": "text/x-python",
   "name": "python",
   "nbconvert_exporter": "python",
   "pygments_lexer": "ipython3",
   "version": "3.11.9"
  }
 },
 "nbformat": 4,
 "nbformat_minor": 5
}
