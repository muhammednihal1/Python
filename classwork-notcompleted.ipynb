{
 "cells": [
  {
   "cell_type": "code",
   "execution_count": 15,
   "id": "c6e34a60-0dac-4305-a030-0133c2c9d0d6",
   "metadata": {},
   "outputs": [
    {
     "name": "stdin",
     "output_type": "stream",
     "text": [
      "Enter a number : 0\n"
     ]
    },
    {
     "name": "stdout",
     "output_type": "stream",
     "text": [
      "number is zero\n"
     ]
    }
   ],
   "source": [
    "#To check the given number is positive, negative or zero\n",
    "a=int(input(\"Enter a number :\"))\n",
    "if a<0:\n",
    " print(\"the number is negative\")\n",
    "elif a>0:\n",
    " print(\"the number is positive\")\n",
    "else:\n",
    " print(\"number is zero\");"
   ]
  },
  {
   "cell_type": "code",
   "execution_count": 20,
   "id": "b1dc6492-ea7e-4aee-8d41-c29ff094b07a",
   "metadata": {},
   "outputs": [
    {
     "name": "stdin",
     "output_type": "stream",
     "text": [
      "Enter a number : 15\n"
     ]
    },
    {
     "name": "stdout",
     "output_type": "stream",
     "text": [
      "the number is odd\n"
     ]
    }
   ],
   "source": [
    "#To check the given number is odd or even\n",
    "a=int(input(\"Enter a number :\"))\n",
    "if (a % 2) == 0:\n",
    " print(\"The number is even\");\n",
    "else:\n",
    " print(\"the number is odd\")      "
   ]
  },
  {
   "cell_type": "code",
   "execution_count": 27,
   "id": "ae88ac5b-98f2-4112-afdd-15a8e8315c56",
   "metadata": {},
   "outputs": [
    {
     "name": "stdin",
     "output_type": "stream",
     "text": [
      "Enter a = 50\n",
      "Enter b = 60\n"
     ]
    },
    {
     "name": "stdout",
     "output_type": "stream",
     "text": [
      "a = 60\n",
      "b = 50\n"
     ]
    }
   ],
   "source": [
    "#To swap two numbers without using 3rd variable\n",
    "a=int(input(\"Enter a =\"))\n",
    "b=int(input(\"Enter b =\"))\n",
    "a,b = b,a\n",
    "print(\"a =\",a)\n",
    "print(\"b =\",b)"
   ]
  },
  {
   "cell_type": "code",
   "execution_count": 32,
   "id": "92ab11ee-b61f-4dfb-9efd-45568288e42f",
   "metadata": {},
   "outputs": [
    {
     "name": "stdin",
     "output_type": "stream",
     "text": [
      "Enter a character:  a\n"
     ]
    },
    {
     "name": "stdout",
     "output_type": "stream",
     "text": [
      "The character 'a' is a vowel\n"
     ]
    }
   ],
   "source": [
    "#To check the given character is vowel\n",
    "c=(input(\"Enter a character: \"))  \n",
    "v=['a','e','i','o','u','A','E','I','O','U']   \n",
    "if c in v:  \n",
    "    print(f\"The character '{c}' is a vowel\")  \n",
    "else:  \n",
    "    print(f\"The character '{c}' is not a vowel\")"
   ]
  },
  {
   "cell_type": "code",
   "execution_count": 37,
   "id": "8d8607de-4288-4665-87be-8b99a8c4ea68",
   "metadata": {},
   "outputs": [
    {
     "name": "stdin",
     "output_type": "stream",
     "text": [
      "Enter a  number : 5\n"
     ]
    },
    {
     "name": "stdout",
     "output_type": "stream",
     "text": [
      "The square of '5' is 25\n"
     ]
    }
   ],
   "source": [
    "#To find square of a number.\n",
    "a=int(input(\"Enter a  number :\"))\n",
    "ans=a*a\n",
    "print(f\"The square of '{a}' is\",ans)"
   ]
  },
  {
   "cell_type": "code",
   "execution_count": 42,
   "id": "e71dbd57-0a39-4da0-a7e9-85c5ae1344eb",
   "metadata": {},
   "outputs": [
    {
     "name": "stdin",
     "output_type": "stream",
     "text": [
      "Enter a mumber : 502\n"
     ]
    },
    {
     "name": "stdout",
     "output_type": "stream",
     "text": [
      "its not divisible by 5\n"
     ]
    }
   ],
   "source": [
    "#To check the given number is divisible by 5\n",
    "i=int(input(\"Enter a mumber :\"))\n",
    "if i%5==0:\n",
    " print(\"its divivible by 5\")\n",
    "else:\n",
    " print(\"its not divisible by 5\")"
   ]
  },
  {
   "cell_type": "code",
   "execution_count": 44,
   "id": "0283356d-4ffe-4a47-b867-2143637e61c5",
   "metadata": {},
   "outputs": [
    {
     "name": "stdin",
     "output_type": "stream",
     "text": [
      "Enter the year 2001\n"
     ]
    },
    {
     "ename": "TypeError",
     "evalue": "not all arguments converted during string formatting",
     "output_type": "error",
     "traceback": [
      "\u001b[0;31m---------------------------------------------------------------------------\u001b[0m",
      "\u001b[0;31mTypeError\u001b[0m                                 Traceback (most recent call last)",
      "Cell \u001b[0;32mIn[44], line 3\u001b[0m\n\u001b[1;32m      1\u001b[0m \u001b[38;5;66;03m#To check the given year is leap year or not\u001b[39;00m\n\u001b[1;32m      2\u001b[0m year\u001b[38;5;241m=\u001b[39m\u001b[38;5;28minput\u001b[39m(\u001b[38;5;124m\"\u001b[39m\u001b[38;5;124mEnter the year\u001b[39m\u001b[38;5;124m\"\u001b[39m)\n\u001b[0;32m----> 3\u001b[0m \u001b[38;5;28;01mif\u001b[39;00m (year \u001b[38;5;241m%\u001b[39m \u001b[38;5;241m400\u001b[39m \u001b[38;5;241m==\u001b[39m \u001b[38;5;241m0\u001b[39m) \u001b[38;5;129;01mand\u001b[39;00m (year \u001b[38;5;241m%\u001b[39m \u001b[38;5;241m100\u001b[39m \u001b[38;5;241m==\u001b[39m \u001b[38;5;241m0\u001b[39m):\n\u001b[1;32m      4\u001b[0m     \u001b[38;5;28mprint\u001b[39m(\u001b[38;5;124m\"\u001b[39m\u001b[38;5;132;01m{0}\u001b[39;00m\u001b[38;5;124m is a leap year\u001b[39m\u001b[38;5;124m\"\u001b[39m\u001b[38;5;241m.\u001b[39mformat(year))\n\u001b[1;32m      5\u001b[0m \u001b[38;5;28;01melif\u001b[39;00m (year \u001b[38;5;241m%\u001b[39m \u001b[38;5;241m4\u001b[39m \u001b[38;5;241m==\u001b[39m\u001b[38;5;241m0\u001b[39m) \u001b[38;5;129;01mand\u001b[39;00m (year \u001b[38;5;241m%\u001b[39m \u001b[38;5;241m100\u001b[39m \u001b[38;5;241m!=\u001b[39m \u001b[38;5;241m0\u001b[39m):\n",
      "\u001b[0;31mTypeError\u001b[0m: not all arguments converted during string formatting"
     ]
    }
   ],
   "source": [
    "#To check the given year is leap year or not\n",
    "year=input(\"Enter the year\")\n",
    "if (year % 400 == 0) and (year % 100 == 0):\n",
    "    print(\"{0} is a leap year\".format(year))\n",
    "elif (year % 4 ==0) and (year % 100 != 0):\n",
    "    print(\"{0} is a leap year\".format(year))\n",
    "else:\n",
    "    print(\"{0} is not a leap year\".format(year))"
   ]
  },
  {
   "cell_type": "code",
   "execution_count": null,
   "id": "55bd7210-7261-4bdd-a9cf-09c22138cc53",
   "metadata": {},
   "outputs": [],
   "source": []
  }
 ],
 "metadata": {
  "kernelspec": {
   "display_name": "Python 3 (ipykernel)",
   "language": "python",
   "name": "python3"
  },
  "language_info": {
   "codemirror_mode": {
    "name": "ipython",
    "version": 3
   },
   "file_extension": ".py",
   "mimetype": "text/x-python",
   "name": "python",
   "nbconvert_exporter": "python",
   "pygments_lexer": "ipython3",
   "version": "3.11.9"
  }
 },
 "nbformat": 4,
 "nbformat_minor": 5
}
