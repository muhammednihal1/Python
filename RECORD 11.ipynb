{
 "cells": [
  {
   "cell_type": "code",
   "execution_count": 1,
   "id": "1cc4064f-c99d-4621-a3c0-e4f9adb04f85",
   "metadata": {},
   "outputs": [
    {
     "name": "stdout",
     "output_type": "stream",
     "text": [
      "Pattern found!\n"
     ]
    }
   ],
   "source": [
    "import re\n",
    "pattern = r\"hello\"\n",
    "text = \"hello world\"\n",
    "\n",
    "if re.match(pattern, text):\n",
    "    print(\"Pattern found!\")\n",
    "else:\n",
    "    print(\"Pattern not found.\")\n"
   ]
  },
  {
   "cell_type": "code",
   "execution_count": 2,
   "id": "bf35a3c3-eec1-49ae-805d-20cfad338112",
   "metadata": {},
   "outputs": [
    {
     "name": "stdin",
     "output_type": "stream",
     "text": [
      "Enter emails (space separated):  john.doe@example.com alice@domain bob.smith@website.com\n",
      "Enter phone numbers (space separated):  1234567890 9876543210 5551234 123abc4567\n"
     ]
    },
    {
     "name": "stdout",
     "output_type": "stream",
     "text": [
      "\n",
      "Checking emails:\n",
      "john.doe@example.com is valid.\n",
      "alice@domain is not a valid email.\n",
      "bob.smith@website.com is valid.\n",
      "\n",
      "Checking phone numbers:\n",
      "1234567890 is likely a valid phone number.\n",
      "9876543210 is likely a valid phone number.\n",
      "5551234 is not a valid phone number.\n",
      "123abc4567 is not a valid phone number.\n"
     ]
    }
   ],
   "source": [
    "import re\n",
    "\n",
    "emails = input(\"Enter emails (space separated): \").split()\n",
    "\n",
    "phones = input(\"Enter phone numbers (space separated): \").split()\n",
    "\n",
    "print(\"\\nChecking emails:\")\n",
    "for email in emails:\n",
    "  if re.match(r\"^[a-zA-Z0-9._%+-]+@[a-zA-Z0-9.-]+\\.[a-zA-Z]{2,}$\", email):\n",
    "    print(email,\"is valid.\")\n",
    "  else:\n",
    "    print(email,\"is not a valid email.\")\n",
    "\n",
    "print(\"\\nChecking phone numbers:\")\n",
    "for phone in phones:\n",
    "  if re.match(r\"^[1-9]\\d{9}$\", phone):\n",
    "    print(phone,\"is likely a valid phone number.\")\n",
    "  else:\n",
    "    print(phone,\"is not a valid phone number.\")"
   ]
  },
  {
   "cell_type": "code",
   "execution_count": null,
   "id": "164fa290-ac85-434f-8f49-7cd54555cf09",
   "metadata": {},
   "outputs": [],
   "source": []
  }
 ],
 "metadata": {
  "kernelspec": {
   "display_name": "Python 3 (ipykernel)",
   "language": "python",
   "name": "python3"
  },
  "language_info": {
   "codemirror_mode": {
    "name": "ipython",
    "version": 3
   },
   "file_extension": ".py",
   "mimetype": "text/x-python",
   "name": "python",
   "nbconvert_exporter": "python",
   "pygments_lexer": "ipython3",
   "version": "3.10.12"
  }
 },
 "nbformat": 4,
 "nbformat_minor": 5
}
