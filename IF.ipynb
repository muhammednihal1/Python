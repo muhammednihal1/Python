
{
 "cells": [
  {
   "cell_type": "code",
   "execution_count": 1,
   "id": "bbb46e43-5d1d-4725-af16-670cbed1270e",
   "metadata": {},
   "outputs": [
    {
     "name": "stdin",
     "output_type": "stream",
     "text": [
      "first no : 1\n",
      "second no: 22\n"
     ]
    },
    {
     "name": "stdout",
     "output_type": "stream",
     "text": [
      "second is greater\n"
     ]
    }
   ],
   "source": [
    "#1\n",
    "a=input(\"first no :\")\n",
    "b=input(\"second no:\")\n",
    "if(a>b):\n",
    "    print(\"first is greater\")\n",
    "else:\n",
    "    print(\"second is greater\")\n",
    "    "
   ]
  },
  {
   "cell_type": "code",
   "execution_count": 2,
   "id": "508fafb0-9bf3-4ff4-ac50-2f4788cf3ff0",
   "metadata": {},
   "outputs": [
    {
     "name": "stdin",
     "output_type": "stream",
     "text": [
      "first no : 80\n",
      "second no: 64\n",
      "third no : 11\n"
     ]
    },
    {
     "name": "stdout",
     "output_type": "stream",
     "text": [
      "a is greater\n"
     ]
    }
   ],
   "source": [
    "#1.1\n",
    "a=int(input(\"first no :\"))\n",
    "b=int(input(\"second no:\"))\n",
    "c=int(input(\"third no :\"))\n",
    "if a>b and a>c:\n",
    "    print(\"a is greater\")\n",
    "elif b>c and b>a:\n",
    "    print(\"b is greater\")\n",
    "else:\n",
    "    print(\"c is greater\")"
   ]
  },
  {
   "cell_type": "code",
   "execution_count": 4,
   "id": "f661c3d0-4d49-4d6a-8618-cd6a082f9969",
   "metadata": {},
   "outputs": [
    {
     "name": "stdin",
     "output_type": "stream",
     "text": [
      "Enter a number : -547\n"
     ]
    },
    {
     "name": "stdout",
     "output_type": "stream",
     "text": [
      "its a negative no\n"
     ]
    }
   ],
   "source": [
    "#2\n",
    "num1=int(input(\"Enter a number :\"))\n",
    "if num1>0:\n",
    "    print(\"its a positive number\")\n",
    "else:\n",
    "    print(\"its a negative number\")"
   ]
  },
  {
   "cell_type": "code",
   "execution_count": 5,
   "id": "e836bb34-06f0-4129-bf9b-521a70e09302",
   "metadata": {},
   "outputs": [
    {
     "name": "stdin",
     "output_type": "stream",
     "text": [
      "enter the length : 5\n",
      "enter the breadth : 10\n"
     ]
    },
    {
     "name": "stdout",
     "output_type": "stream",
     "text": [
      "its not a square\n"
     ]
    }
   ],
   "source": [
    "#3\n",
    "l=int(input(\"enter the length :\"))\n",
    "b=int(input(\"enter the breadth :\"))\n",
    "if l==b:\n",
    "      print(\"its a square\")\n",
    "else:\n",
    "    print(\"its not a square\")"
   ]
  },
  {
   "cell_type": "code",
   "execution_count": 8,
   "id": "780c5687-5449-4f08-8a4a-fdb77ba3e34a",
   "metadata": {},
   "outputs": [
    {
     "name": "stdin",
     "output_type": "stream",
     "text": [
      "enter a 20\n",
      "enter b 25\n"
     ]
    },
    {
     "name": "stdout",
     "output_type": "stream",
     "text": [
      "The result is: 500\n"
     ]
    }
   ],
   "source": [
    "#4\n",
    "\n",
    "a = int(input(\"enter a\"))\n",
    "b = int(input(\"enter b\"))\n",
    "product = a * b\n",
    "\n",
    "if product > 1000:\n",
    "    result = a + b\n",
    "else:\n",
    "    result = product\n",
    "print(f\"The result is: {result}\")\n"
   ]
  },
  {
   "cell_type": "code",
   "execution_count": null,
   "id": "2cc8433b-ffb7-4564-9a10-e8df18c0293c",
   "metadata": {},
   "outputs": [],
   "source": [
    "percentage_attended = round(percentage_attended, 2)"
   ]
  },
  {
   "cell_type": "code",
   "execution_count": 21,
   "id": "af4e6e9a-bce1-4769-83fa-effdd39f7137",
   "metadata": {},
   "outputs": [
    {
     "name": "stdin",
     "output_type": "stream",
     "text": [
      "number of classes held:  16\n",
      "number of classes attended:  15\n"
     ]
    },
    {
     "name": "stdout",
     "output_type": "stream",
     "text": [
      "attendance percentage: 93.75\n",
      "allowed to sit in exam\n"
     ]
    }
   ],
   "source": [
    "#5\n",
    "held = int(input(\"number of classes held: \"))\n",
    "attended = int(input(\"number of classes attended: \"))\n",
    "percentage = round((attended / held) * 100, 2)\n",
    "if percentage >= 75:\n",
    "    print(\"attendance percentage:\", percentage)\n",
    "    print(\"allowed to sit in exam\")\n",
    "else:\n",
    "    print(\"attendance percentage:\", percentage)\n",
    "    print(\"bot allowed to sit in exam\")"
   ]
  },
  {
   "cell_type": "code",
   "execution_count": 5,
   "id": "d697f4d1-d153-4817-bf25-5f022d131d66",
   "metadata": {},
   "outputs": [
    {
     "name": "stdin",
     "output_type": "stream",
     "text": [
      "Enter the numbers separated by comma: 1,2,3,4,5\n"
     ]
    },
    {
     "name": "stdout",
     "output_type": "stream",
     "text": [
      "false\n"
     ]
    }
   ],
   "source": [
    "#6.Given a list of numbers, print True if first and last number of a list is same\n",
    "numbers=input(\"Enter the numbers separated by comma:\").split(\",\")\n",
    "if numbers[0] == numbers[-1]:\n",
    "    print(\"true\")\n",
    "else:\n",
    "    print(\"false\")\n",
    "\n"
   ]
  },
  {
   "cell_type": "code",
   "execution_count": null,
   "id": "08c18585-a889-4aa7-8bc0-7655fc8d9525",
   "metadata": {},
   "outputs": [],
   "source": []
  }
 ],
 "metadata": {
  "kernelspec": {
   "display_name": "Python 3 (ipykernel)",
   "language": "python",
   "name": "python3"
  },
  "language_info": {
   "codemirror_mode": {
    "name": "ipython",
    "version": 3
   },
   "file_extension": ".py",
   "mimetype": "text/x-python",
   "name": "python",
   "nbconvert_exporter": "python",
   "pygments_lexer": "ipython3",
   "version": "3.11.9"
  }
 },
 "nbformat": 4,
 "nbformat_minor": 5
}
