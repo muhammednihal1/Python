
{
 "cells": [
  {
   "cell_type": "code",
   "execution_count": 9,
   "id": "7b04e8bc",
   "metadata": {},
   "outputs": [
    {
     "name": "stdin",
     "output_type": "stream",
     "text": [
      "Enter numbers separated by COMMAS:  9,1,3,2\n"
     ]
    },
    {
     "name": "stdout",
     "output_type": "stream",
     "text": [
      "The sum of all items in the list is: 15\n"
     ]
    }
   ],
   "source": [
    "# SUM OF THE LIST NUMBERS\n",
    "i_list = input(\"Enter numbers separated by COMMAS: \").split(',')\n",
    "numbers = [int(num) for num in i_list]\n",
    "total_sum = sum(numbers)\n",
    "print(\"The sum of all items in the list is:\", total_sum)"
   ]
  },
  {
   "cell_type": "code",
   "execution_count": 4,
   "id": "a640a95e",
   "metadata": {},
   "outputs": [
    {
     "name": "stdout",
     "output_type": "stream",
     "text": [
      "0\n",
      "1\n",
      "3\n",
      "4\n",
      "6\n",
      "7\n",
      "8\n",
      "9\n",
      "10\n"
     ]
    }
   ],
   "source": [
    "#PRINT 0-10 WITHOUT 2 AND 5\n",
    "for num in range(11):\n",
    "    if num == 2 or num == 5:\n",
    "        continue \n",
    "    print(num)\n"
   ]
  },
  {
   "cell_type": "code",
   "execution_count": 1,
   "id": "5d4b8eda",
   "metadata": {},
   "outputs": [
    {
     "name": "stdin",
     "output_type": "stream",
     "text": [
      "Enter a string:  NUMBERS 123456\n"
     ]
    },
    {
     "name": "stdout",
     "output_type": "stream",
     "text": [
      "Number of letters: 7\n",
      "Number of digits: 6\n"
     ]
    }
   ],
   "source": [
    "# CALCULATE  THE NUMBER OF DIGITS AND LETTERS \n",
    "input_string = input(\"Enter a string: \")\n",
    "letter_count = sum(c.isalpha() for c in input_string)\n",
    "digit_count = sum(c.isdigit() for c in input_string)\n",
    "print(f\"Number of letters: {letter_count}\")\n",
    "print(f\"Number of digits: {digit_count}\")"
   ]
  },
  {
   "cell_type": "code",
   "execution_count": 2,
   "id": "adb633d7",
   "metadata": {},
   "outputs": [
    {
     "name": "stdin",
     "output_type": "stream",
     "text": [
      "Enter the number of steps for the pyramid:  4\n"
     ]
    },
    {
     "name": "stdout",
     "output_type": "stream",
     "text": [
      "1\n",
      "2 4\n",
      "3 6 9\n",
      "4 8 12 16\n"
     ]
    }
   ],
   "source": [
    "# DISPLAY THE PYRAMID \n",
    "N = int(input(\"Enter the number of steps for the pyramid: \"))\n",
    "for i in range(1, N + 1):\n",
    "    row = \"\"\n",
    "    for j in range(1, i + 1):\n",
    "        row += str(i * j) + \" \"\n",
    "    print(row.strip())\n"
   ]
  },
  {
   "cell_type": "code",
   "execution_count": 6,
   "id": "f423cf36",
   "metadata": {},
   "outputs": [
    {
     "name": "stdin",
     "output_type": "stream",
     "text": [
      "Enter a string:  JESSE\n"
     ]
    },
    {
     "name": "stdout",
     "output_type": "stream",
     "text": [
      "'J': 1\n",
      "'E': 2\n",
      "'S': 2\n"
     ]
    }
   ],
   "source": [
    "# COUNT THE NUMBER OF CHARACTER \n",
    "input_string = input(\"Enter a string: \")\n",
    "char_count = {}\n",
    "for char in input_string:\n",
    "    if char in char_count:\n",
    "        char_count[char] += 1\n",
    "    else:\n",
    "        char_count[char] = 1\n",
    "for char, count in char_count.items():\n",
    "    print(f\"'{char}': {count}\")\n"
   ]
  },
  {
   "cell_type": "code",
   "execution_count": 7,
   "id": "f2230384",
   "metadata": {},
   "outputs": [
    {
     "name": "stdin",
     "output_type": "stream",
     "text": [
      "Enter the number of rows:  5\n"
     ]
    },
    {
     "name": "stdout",
     "output_type": "stream",
     "text": [
      "* \n",
      "* * \n",
      "* * * \n",
      "* * * * \n",
      "* * * * * \n",
      "* * * * \n",
      "* * * \n",
      "* * \n",
      "* \n"
     ]
    }
   ],
   "source": [
    "# \n",
    "n = int(input(\"Enter the number of rows: \"))\n",
    "for i in range(1, n + 1):\n",
    "    print('* ' * i)\n",
    "for i in range(n - 1, 0, -1):\n",
    "    print('* ' * i)\n"
   ]
  },
  {
   "cell_type": "code",
   "execution_count": null,
   "id": "53f7a34a",
   "metadata": {},
   "outputs": [],
   "source": []
  }
 ],
 "metadata": {
  "kernelspec": {
   "display_name": "Python 3 (ipykernel)",
   "language": "python",
   "name": "python3"
  },
  "language_info": {
   "codemirror_mode": {
    "name": "ipython",
    "version": 3
   },
   "file_extension": ".py",
   "mimetype": "text/x-python",
   "name": "python",
   "nbconvert_exporter": "python",
   "pygments_lexer": "ipython3",
   "version": "3.11.9"
  }
 },
 "nbformat": 4,
 "nbformat_minor": 5
}
