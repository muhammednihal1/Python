
{
 "cells": [
  {
   "cell_type": "code",
   "execution_count": 11,
   "id": "f9bfc206-1547-49dc-9fcc-8d13456ee4d4",
   "metadata": {},
   "outputs": [
    {
     "name": "stdin",
     "output_type": "stream",
     "text": [
      "Enter a number:  abc\n"
     ]
    },
    {
     "name": "stdout",
     "output_type": "stream",
     "text": [
      "Error: Invalid input. Please enter numeric values.\n",
      "Program execution completed.\n"
     ]
    }
   ],
   "source": [
    "try:\n",
    "    num = int(input(\"Enter a number: \"))\n",
    "    num2=int(input(\"enter 2nd number :\"))\n",
    "    result = num / num2\n",
    "except ZeroDivisionError:\n",
    "    print(\"Error: Division by zero is not allowed!\")\n",
    "except ValueError:\n",
    "    print(\"Error: Invalid input. Please enter numeric values.\")\n",
    "else:\n",
    "    print(f\"Result: {result}\")\n",
    "finally:\n",
    "    print(\"Program execution completed.\")\n"
   ]
  },
  {
   "cell_type": "code",
   "execution_count": null,
   "id": "6e51b47a-1797-4945-80fc-518c4d070a7a",
   "metadata": {},
   "outputs": [],
   "source": []
  }
 ],
 "metadata": {
  "kernelspec": {
   "display_name": "Python 3 (ipykernel)",
   "language": "python",
   "name": "python3"
  },
  "language_info": {
   "codemirror_mode": {
    "name": "ipython",
    "version": 3
   },
   "file_extension": ".py",
   "mimetype": "text/x-python",
   "name": "python",
   "nbconvert_exporter": "python",
   "pygments_lexer": "ipython3",
   "version": "3.10.12"
  }
 },
 "nbformat": 4,
 "nbformat_minor": 5
}
