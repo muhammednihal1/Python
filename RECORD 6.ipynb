{
 "cells": [
  {
   "cell_type": "code",
   "execution_count": 9,
   "id": "c38e5b19-becd-47dc-98be-b66b3c770aed",
   "metadata": {},
   "outputs": [
    {
     "name": "stdin",
     "output_type": "stream",
     "text": [
      "enter last year:  2030\n"
     ]
    },
    {
     "name": "stdout",
     "output_type": "stream",
     "text": [
      "current year is 2024\n",
      "Leap years from 2024 to 2030:\n",
      "2024\n",
      "2028\n"
     ]
    }
   ],
   "source": [
    "#1. Display future leap years from current year to a final year entered by user. \n",
    "year = int(input(\"enter last year: \"))\n",
    "def leap(year):\n",
    "    if year % 400 == 0:\n",
    "        return True\n",
    "    elif year % 100 == 0:\n",
    "        return False\n",
    "    elif year % 4 == 0:\n",
    "        return True\n",
    "    else:\n",
    "        return False\n",
    "current = 2024\n",
    "print(\"current year is\",current)\n",
    "print(f\"Leap years from {current} to {year}:\")\n",
    "for x in range(current, year + 1):\n",
    "    if leap(x):\n",
    "        print(x)"
   ]
  },
  {
   "cell_type": "code",
   "execution_count": 57,
   "id": "907dc3b1-35b5-4b32-91a7-42d64375a311",
   "metadata": {},
   "outputs": [
    {
     "name": "stdin",
     "output_type": "stream",
     "text": [
      "Enter a positive no:  5\n"
     ]
    },
    {
     "name": "stdout",
     "output_type": "stream",
     "text": [
      "the factorial of 5 is 120\n"
     ]
    }
   ],
   "source": [
    "#2. Program to find the factorial of a number.\n",
    "def factorial(n):\n",
    "    if n == 0 or n == 1:\n",
    "        return 1\n",
    "    else:\n",
    "        return n * factorial(n - 1)\n",
    "num = int(input(\"Enter a positive no: \"))\n",
    "if num > 0:\n",
    "    result = factorial(num)\n",
    "    print(f\"the factorial of {num} is {result}\")"
   ]
  },
  {
   "cell_type": "code",
   "execution_count": 5,
   "id": "a08fa23b-d302-4a6e-8be5-609e6a040800",
   "metadata": {},
   "outputs": [
    {
     "name": "stdin",
     "output_type": "stream",
     "text": [
      "Enter a number : 5\n"
     ]
    },
    {
     "name": "stdout",
     "output_type": "stream",
     "text": [
      "fibonacci are : [0, 1, 1, 2, 3]\n"
     ]
    }
   ],
   "source": [
    "#3. Generate Fibonacci series of N terms\n",
    "n=int(input(\"Enter a number :\"))\n",
    "def fibonacci(n):\n",
    "    fib= []\n",
    "    if n >= 1:\n",
    "        fib.append(0)\n",
    "    if n >= 2:\n",
    "        fib.append(1)\n",
    "    for i in range(2, n):\n",
    "        nextt = fib[-1] + fib[-2]\n",
    "        fib.append(nextt)\n",
    "    return fib\n",
    "print(\"fibonacci are :\",fibonacci(n))"
   ]
  },
  {
   "cell_type": "code",
   "execution_count": 3,
   "id": "b5b5cb0e-e19b-4751-a713-0e25443d6014",
   "metadata": {},
   "outputs": [
    {
     "name": "stdin",
     "output_type": "stream",
     "text": [
      "Enter the word: HELLO IAM HERE\n"
     ]
    },
    {
     "name": "stdout",
     "output_type": "stream",
     "text": [
      "Length of the longest word:5 \n"
     ]
    }
   ],
   "source": [
    "#4.LONGEST WORD \n",
    "def longest_word(n):\n",
    "    l_word=max(n,key=len)\n",
    "    return len(l_word)\n",
    "n=input(\"Enter the word:\").split()\n",
    "print(f\"Length of the longest word:{longest_word(n)} \")\n"
   ]
  },
  {
   "cell_type": "code",
   "execution_count": 2,
   "id": "fac487f7-8678-4e1d-9870-e7f861162729",
   "metadata": {},
   "outputs": [
    {
     "name": "stdin",
     "output_type": "stream",
     "text": [
      "Enter the number of steps :  5\n"
     ]
    },
    {
     "name": "stdout",
     "output_type": "stream",
     "text": [
      "* \n",
      "* * \n",
      "* * * \n",
      "* * * * \n",
      "* * * * * \n",
      "* * * * \n",
      "* * * \n",
      "* * \n",
      "* \n"
     ]
    }
   ],
   "source": [
    "#5. Construct following pattern using nested loop PYRMAID (*)\n",
    "def pyramid(n):\n",
    "    for i in range(1, n+1):\n",
    "        print(\"* \" * i)    \n",
    "    for i in range(n-1, 0, -1):\n",
    "        print(\"* \" * i)\n",
    "n = int(input(\"Enter the number of steps : \"))\n",
    "pyramid(n)"
   ]
  },
  {
   "cell_type": "code",
   "execution_count": 1,
   "id": "4d73d945-63df-45d0-81ca-25fce39f9556",
   "metadata": {},
   "outputs": [
    {
     "name": "stdin",
     "output_type": "stream",
     "text": [
      "Enter a number:  5\n"
     ]
    },
    {
     "name": "stdout",
     "output_type": "stream",
     "text": [
      "Factors of 5 are: [1, 5]\n"
     ]
    }
   ],
   "source": [
    "#6. Generate all factors of a number.\n",
    "def factors(n):\n",
    "    factorlist = []\n",
    "    for i in range(1, n+1):\n",
    "        if n % i == 0:\n",
    "            factorlist.append(i)    \n",
    "    return factorlist\n",
    "number = int(input(\"Enter a number: \"))\n",
    "print(\"Factors of\", number, \"are:\", factors(number))"
   ]
  },
  {
   "cell_type": "code",
   "execution_count": 7,
   "id": "13b2d869-11d9-474a-9dc6-5baf6fa99a5f",
   "metadata": {},
   "outputs": [
    {
     "name": "stdin",
     "output_type": "stream",
     "text": [
      "Enter the number of steps:  5\n"
     ]
    },
    {
     "name": "stdout",
     "output_type": "stream",
     "text": [
      "1 \n",
      "2 4 \n",
      "3 6 9 \n",
      "4 8 12 16 \n",
      "5 10 15 20 25 \n"
     ]
    }
   ],
   "source": [
    "#7.  Display the given pyramid with step number accepted from user\n",
    "def pyramid(n):\n",
    "    for i in range(1, n+1):\n",
    "        for j in range(1, i+1):\n",
    "            print(i * j, end=\" \")\n",
    "        print()\n",
    "n = int(input(\"Enter the number of steps: \"))\n",
    "pyramid(n)\n"
   ]
  },
  {
   "cell_type": "code",
   "execution_count": 5,
   "id": "218eb375-cf0c-488e-8935-98eb7a95dab2",
   "metadata": {},
   "outputs": [
    {
     "name": "stdin",
     "output_type": "stream",
     "text": [
      "Enter the size: 5\n",
      "Enter the length: 10\n",
      "Enter the width: 20\n",
      "Enter the base: 20\n",
      "Enter the height: 20\n"
     ]
    },
    {
     "name": "stdout",
     "output_type": "stream",
     "text": [
      "Area of square: 25.0\n",
      "Area of rectangle: 200.0\n",
      "Area of triangle: 200.0\n"
     ]
    }
   ],
   "source": [
    "#8.AREA OF SQUARE,RECTANGLE,TRIANGLE\n",
    "square = lambda s: s**2\n",
    "rect = lambda l, w: l * w\n",
    "tri = lambda b, h: 0.5 * b * h\n",
    "s = float(input(\"Enter the size:\"))\n",
    "l = float(input(\"Enter the length:\"))\n",
    "w = float(input(\"Enter the width:\"))\n",
    "b = float(input(\"Enter the base:\"))\n",
    "h = float(input(\"Enter the height:\"))\n",
    "\n",
    "print(f\"Area of square: {square(s)}\")\n",
    "print(f\"Area of rectangle: {rect(l, w)}\")\n",
    "print(f\"Area of triangle: {tri(b, h)}\")\n"
   ]
  },
  {
   "cell_type": "code",
   "execution_count": null,
   "id": "e4e7ad00-17a6-4aac-b87d-360452eb29f3",
   "metadata": {},
   "outputs": [],
   "source": []
  }
 ],
 "metadata": {
  "kernelspec": {
   "display_name": "Python 3 (ipykernel)",
   "language": "python",
   "name": "python3"
  },
  "language_info": {
   "codemirror_mode": {
    "name": "ipython",
    "version": 3
   },
   "file_extension": ".py",
   "mimetype": "text/x-python",
   "name": "python",
   "nbconvert_exporter": "python",
   "pygments_lexer": "ipython3",
   "version": "3.10.12"
  }
 },
 "nbformat": 4,
 "nbformat_minor": 5
}
