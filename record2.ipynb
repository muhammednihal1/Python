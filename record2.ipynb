

{
 "cells": [
  {
   "cell_type": "code",
   "execution_count": 20,
   "id": "d10a2f4b",
   "metadata": {},
   "outputs": [
    {
     "name": "stdout",
     "output_type": "stream",
     "text": [
      "Enter the temprature in celcius :47\n",
      "47 degree celcius temprature  = 116.6 degree Fahrenheit. \n"
     ]
    }
   ],
   "source": [
    "#CELCIUS TO FAHRENHEIT\n",
    "T=int(input(\"Enter the temprature in celcius :\"))\n",
    "F= T * 9/5 + 32\n",
    "print(f\"{T} degree celcius temprature  = {F} degree Fahrenheit. \")"
   ]
  },
  {
   "cell_type": "code",
   "execution_count": 19,
   "id": "fc5e9047",
   "metadata": {
    "scrolled": true
   },
   "outputs": [
    {
     "name": "stdout",
     "output_type": "stream",
     "text": [
      "Enter the kilometer you travelled :5\n",
      "You have traveled 3.11 miles.\n"
     ]
    }
   ],
   "source": [
    "#KILOMETER TO MILES\n",
    "KM=float(input(\"Enter the kilometer you travelled :\"))\n",
    "miles=KM*(0.62137)\n",
    "print(f\"You have traveled {miles:.2f} miles.\")"
   ]
  },
  {
   "cell_type": "code",
   "execution_count": 15,
   "id": "2ede791e",
   "metadata": {},
   "outputs": [
    {
     "name": "stdout",
     "output_type": "stream",
     "text": [
      "Enter the price of product A :120\n",
      "Enter the price of product B :40\n",
      "Enter the price of product C :53\n",
      "Final price (after 15% discount) : 181.05\n",
      "average price : 71.0\n",
      "Product A is more expensive than the final price : False\n",
      "Product B is more expensive than the final price : False\n",
      "Product C is more expensive than the final price : False\n",
      "Final price is in range between 60 to 200 :True \n"
     ]
    }
   ],
   "source": [
    "#THREE PRODUCTS\n",
    "A=float(input(\"Enter the price of product A :\"))\n",
    "B=float(input(\"Enter the price of product B :\"))\n",
    "C=float(input(\"Enter the price of product C :\"))\n",
    "total_price=A+B+C;\n",
    "discount=total_price*0.15\n",
    "final_price=total_price-discount\n",
    "print(f\"Final price (after 15% discount) : {final_price}\")\n",
    "avg_price=total_price/3;\n",
    "print(f\"average price : {avg_price}\")\n",
    "print(f\"Product A is more expensive than the final price : {A>final_price}\")\n",
    "print(f\"Product B is more expensive than the final price : {B>final_price}\")\n",
    "print(f\"Product C is more expensive than the final price : {C>final_price}\")\n",
    "print(f\"Final price is in range between 60 to 200 :{final_price>60 and final_price<200} \")"
   ]
  },
  {
   "cell_type": "code",
   "execution_count": null,
   "id": "ec6cc324",
   "metadata": {},
   "outputs": [],
   "source": []
  },
  {
   "cell_type": "code",
   "execution_count": null,
   "id": "99b4eda3",
   "metadata": {},
   "outputs": [],
   "source": []
  }
 ],
 "metadata": {
  "kernelspec": {
   "display_name": "Python 3",
   "language": "python",
   "name": "python3"
  },
  "language_info": {
   "codemirror_mode": {
    "name": "ipython",
    "version": 3
   },
   "file_extension": ".py",
   "mimetype": "text/x-python",
   "name": "python",
   "nbconvert_exporter": "python",
   "pygments_lexer": "ipython3",
   "version": "3.6.7"
  }
 },
 "nbformat": 4,
 "nbformat_minor": 5
}
