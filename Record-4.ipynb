
{
 "cells": [
  {
   "cell_type": "code",
   "execution_count": 13,
   "id": "47b118a8-8381-4c10-a640-cf9c9c477860",
   "metadata": {},
   "outputs": [
    {
     "name": "stdin",
     "output_type": "stream",
     "text": [
      "Enter text here : start stop continue start\n"
     ]
    },
    {
     "name": "stdout",
     "output_type": "stream",
     "text": [
      "each of words : [('continue', 1), ('stop', 1), ('start', 2)]\n"
     ]
    }
   ],
   "source": [
    "# 1. write a python program to  count the occurrences of each word in a line of text.\n",
    "text=input(\"Enter text here :\").split()\n",
    "print(\"each of words :\",[(word,text.count(word)) for word in set(text)])\n"
   ]
  },
  {
   "cell_type": "code",
   "execution_count": 4,
   "id": "80822ebb-ddca-4340-b452-0f9651ce2e44",
   "metadata": {},
   "outputs": [
    {
     "name": "stdin",
     "output_type": "stream",
     "text": [
      "Enter numbers:  1001 252 4 55 12 99 985\n"
     ]
    },
    {
     "name": "stdout",
     "output_type": "stream",
     "text": [
      "['over', 'over', 4, 55, 12, 99, 'over']\n"
     ]
    }
   ],
   "source": [
    "# 2. Prompt the user for a list of integers. For all values greater than 100, store ‘over’ instead.\n",
    "numbers = [int(n) for n in input(\"Enter numbers: \").split()]\n",
    "result = [n if n <= 100 else 'over' for n in numbers]\n",
    "print(result)"
   ]
  },
  {
   "cell_type": "code",
   "execution_count": 3,
   "id": "2fc69f24-6fc5-4777-81fa-5d3c7df417f4",
   "metadata": {},
   "outputs": [
    {
     "name": "stdin",
     "output_type": "stream",
     "text": [
      "Enter names:  jaseem roshan linto\n"
     ]
    },
    {
     "name": "stdout",
     "output_type": "stream",
     "text": [
      "2\n"
     ]
    }
   ],
   "source": [
    "# 3. Store a list of first names. Count the occurrences of ‘a’ within the list.\n",
    "names = input(\"Enter names: \").split()\n",
    "count = sum([name.count('a') for name in names])\n",
    "print(count)"
   ]
  },
  {
   "cell_type": "code",
   "execution_count": 14,
   "id": "af132224-948d-4f7c-8d9d-04378ab0b9f1",
   "metadata": {},
   "outputs": [
    {
     "name": "stdin",
     "output_type": "stream",
     "text": [
      "Enter first list:  5 10\n",
      "Enter second list:  15\n"
     ]
    },
    {
     "name": "stdout",
     "output_type": "stream",
     "text": [
      "False\n",
      "True\n",
      "False\n"
     ]
    }
   ],
   "source": [
    "# 4. Enter 2 lists of integers. (a).Check Whether list are same length (b).whether list sums to same value (c) whether any value occur in both.\n",
    "list1 = [int(x) for x in input(\"Enter first list: \").split()]\n",
    "list2 = [int(x) for x in input(\"Enter second list: \").split()]\n",
    "print(sum(1 for in list1) == sum(1 for in list2))\n",
    "print(sum(list1) == sum(list2))\n",
    "print(any(x in list2 for x in list1))"
   ]
  },
  {
   "cell_type": "code",
   "execution_count": 1,
   "id": "f6b26ab9-05b6-4e31-b8bd-c68bd18b1710",
   "metadata": {},
   "outputs": [
    {
     "name": "stdin",
     "output_type": "stream",
     "text": [
      "Enter list of numbers 1,12,-9,-47,55,70\n"
     ]
    },
    {
     "name": "stdout",
     "output_type": "stream",
     "text": [
      "list of positive numbers: [1, 12, 55, 70]\n",
      "square of n numbers: [1, 144, 81, 2209, 3025, 4900]\n"
     ]
    }
   ],
   "source": [
    "#5         (a) Generate positive list of numbers from a given list of integers \n",
    "#          (b) Square of N numbers \n",
    "numbers = input(\"Enter list of numbers\").split(\",\");\n",
    "integer = [int(x) for x in numbers]\n",
    "pos = [x for x in integer if x > 0]\n",
    "print(\"list of positive numbers:\",pos)\n",
    "sqr = [x**2 for x in integer] \n",
    "print(\"square of n numbers:\",sqr)\n"
   ]
  },
  {
   "cell_type": "code",
   "execution_count": 11,
   "id": "f2b3d74d-0103-4e2f-836c-f99af8ecd1af",
   "metadata": {},
   "outputs": [
    {
     "name": "stdin",
     "output_type": "stream",
     "text": [
      "Enter a word:  optimus\n"
     ]
    },
    {
     "name": "stdout",
     "output_type": "stream",
     "text": [
      "Vowels in the word: ['o', 'i', 'u']\n",
      "[111, 112, 116, 105, 109, 117, 115]\n"
     ]
    }
   ],
   "source": [
    "#5.\n",
    " #(c) Form a list of vowels selected from a given word \n",
    " #(d) List ordinal value of each element of a word \n",
    "\n",
    "word = input(\"Enter a word: \")\n",
    "vowels = [char for char in word if char.lower() in \"aeiou\"]\n",
    "print(\"Vowels in the word:\", vowels)\n",
    "ordinal=[ord(char) for char in word]\n",
    "print(ordinal)"
   ]
  },
  {
   "cell_type": "code",
   "execution_count": null,
   "id": "d1d0d27c-e40b-4720-8208-2690d57341ee",
   "metadata": {},
   "outputs": [],
   "source": []
  }
 ],
 "metadata": {
  "kernelspec": {
   "display_name": "Python 3 (ipykernel)",
   "language": "python",
   "name": "python3"
  },
  "language_info": {
   "codemirror_mode": {
    "name": "ipython",
    "version": 3
   },
   "file_extension": ".py",
   "mimetype": "text/x-python",
   "name": "python",
   "nbconvert_exporter": "python",
   "pygments_lexer": "ipython3",
   "version": "3.10.12"
  }
 },
 "nbformat": 4,
 "nbformat_minor": 5
}
